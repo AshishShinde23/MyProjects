{
  "nbformat": 4,
  "nbformat_minor": 0,
  "metadata": {
    "colab": {
      "name": "Portfolio Optimization.ipynb",
      "provenance": [],
      "collapsed_sections": [],
      "authorship_tag": "ABX9TyMHMhMbD5p2flMVP2NdQ8Ec",
      "include_colab_link": true
    },
    "kernelspec": {
      "name": "python3",
      "display_name": "Python 3"
    }
  },
  "cells": [
    {
      "cell_type": "markdown",
      "metadata": {
        "id": "view-in-github",
        "colab_type": "text"
      },
      "source": [
        "<a href=\"https://colab.research.google.com/github/AshishShinde23/MyProjects/blob/main/Portfolio_Optimization.ipynb\" target=\"_parent\"><img src=\"https://colab.research.google.com/assets/colab-badge.svg\" alt=\"Open In Colab\"/></a>"
      ]
    },
    {
      "cell_type": "code",
      "metadata": {
        "id": "RW54sbj2awVG"
      },
      "source": [
        "#Title: Portfolio Optimization\n"
      ],
      "execution_count": 1,
      "outputs": []
    },
    {
      "cell_type": "code",
      "metadata": {
        "id": "iVwUTDFnbFFx"
      },
      "source": [
        "# Description: This program attempts to optimize a users portfolio."
      ],
      "execution_count": 2,
      "outputs": []
    },
    {
      "cell_type": "code",
      "metadata": {
        "id": "zE5glRYibIzJ"
      },
      "source": [
        "# Import the python libraries\n",
        "from pandas_datareader import data as web\n",
        "import pandas as pd\n",
        "import numpy as np\n",
        "from datetime import datetime\n",
        "import matplotlib.pyplot as plt\n",
        "plt.style.use('fivethirtyeight')"
      ],
      "execution_count": 3,
      "outputs": []
    },
    {
      "cell_type": "code",
      "metadata": {
        "id": "jwGmXWyvbPEE"
      },
      "source": [
        "assets =  [\"GOOG\", \"CMCSA\", \"AMZN\",\"MSFT\", \"AAPL\", \"FB\", \"NFLX\", \"CSCO\", \"ORCL\", \"INTC\"]\n"
      ],
      "execution_count": 4,
      "outputs": []
    },
    {
      "cell_type": "code",
      "metadata": {
        "id": "57XnJMLldw7l"
      },
      "source": [
        "# Assign weights to the stocks. Weights must = 1 so 0.1 for each"
      ],
      "execution_count": 5,
      "outputs": []
    },
    {
      "cell_type": "code",
      "metadata": {
        "id": "y7b3WA8jeBul",
        "outputId": "4c9770f7-3f24-40df-bf85-33de0bbb0a83",
        "colab": {
          "base_uri": "https://localhost:8080/"
        }
      },
      "source": [
        "weights = np.array([0.1, 0.1, 0.1, 0.1, 0.1, 0.1, 0.1, 0.1, 0.1, 0.1])\n",
        "weights"
      ],
      "execution_count": 6,
      "outputs": [
        {
          "output_type": "execute_result",
          "data": {
            "text/plain": [
              "array([0.1, 0.1, 0.1, 0.1, 0.1, 0.1, 0.1, 0.1, 0.1, 0.1])"
            ]
          },
          "metadata": {
            "tags": []
          },
          "execution_count": 6
        }
      ]
    },
    {
      "cell_type": "code",
      "metadata": {
        "id": "6_FJDI59eRZ2"
      },
      "source": [
        "#Get the stock starting date\n",
        "stockStartDate = '2015-01-01'"
      ],
      "execution_count": 7,
      "outputs": []
    },
    {
      "cell_type": "code",
      "metadata": {
        "id": "X3ewz0YkeapQ"
      },
      "source": [
        "# Get the stocks ending date i.e. today's date and format it in the form YYYY-MM-DD\n",
        "today = datetime.today().strftime('%Y-%m-%d')"
      ],
      "execution_count": 8,
      "outputs": []
    },
    {
      "cell_type": "code",
      "metadata": {
        "id": "N1sBqbLiholi"
      },
      "source": [
        "#Create a dataframe to store the adjusted close price of the stocks\n",
        "df = pd.DataFrame()\n",
        "#Store the adjusted close price of stock into the data frame\n",
        "for stock in assets:\n",
        "   df[stock] = web.DataReader(stock,data_source='yahoo',start=stockStartDate , end=today)['Adj Close']"
      ],
      "execution_count": 19,
      "outputs": []
    },
    {
      "cell_type": "code",
      "metadata": {
        "id": "8zYzDPLrhso-",
        "outputId": "af4e47a9-ffed-4638-8032-c4f493254b03",
        "colab": {
          "base_uri": "https://localhost:8080/",
          "height": 431
        }
      },
      "source": [
        "df"
      ],
      "execution_count": 20,
      "outputs": [
        {
          "output_type": "execute_result",
          "data": {
            "text/html": [
              "<div>\n",
              "<style scoped>\n",
              "    .dataframe tbody tr th:only-of-type {\n",
              "        vertical-align: middle;\n",
              "    }\n",
              "\n",
              "    .dataframe tbody tr th {\n",
              "        vertical-align: top;\n",
              "    }\n",
              "\n",
              "    .dataframe thead th {\n",
              "        text-align: right;\n",
              "    }\n",
              "</style>\n",
              "<table border=\"1\" class=\"dataframe\">\n",
              "  <thead>\n",
              "    <tr style=\"text-align: right;\">\n",
              "      <th></th>\n",
              "      <th>GOOG</th>\n",
              "      <th>CMCSA</th>\n",
              "      <th>AMZN</th>\n",
              "      <th>MSFT</th>\n",
              "      <th>AAPL</th>\n",
              "      <th>FB</th>\n",
              "      <th>NFLX</th>\n",
              "      <th>CSCO</th>\n",
              "      <th>ORCL</th>\n",
              "      <th>INTC</th>\n",
              "    </tr>\n",
              "    <tr>\n",
              "      <th>Date</th>\n",
              "      <th></th>\n",
              "      <th></th>\n",
              "      <th></th>\n",
              "      <th></th>\n",
              "      <th></th>\n",
              "      <th></th>\n",
              "      <th></th>\n",
              "      <th></th>\n",
              "      <th></th>\n",
              "      <th></th>\n",
              "    </tr>\n",
              "  </thead>\n",
              "  <tbody>\n",
              "    <tr>\n",
              "      <th>2015-01-02</th>\n",
              "      <td>523.373108</td>\n",
              "      <td>25.591234</td>\n",
              "      <td>308.519989</td>\n",
              "      <td>41.647892</td>\n",
              "      <td>24.941502</td>\n",
              "      <td>78.449997</td>\n",
              "      <td>49.848572</td>\n",
              "      <td>22.964809</td>\n",
              "      <td>40.292976</td>\n",
              "      <td>31.082489</td>\n",
              "    </tr>\n",
              "    <tr>\n",
              "      <th>2015-01-05</th>\n",
              "      <td>512.463013</td>\n",
              "      <td>25.069328</td>\n",
              "      <td>302.190002</td>\n",
              "      <td>41.264908</td>\n",
              "      <td>24.238857</td>\n",
              "      <td>77.190002</td>\n",
              "      <td>47.311428</td>\n",
              "      <td>22.507343</td>\n",
              "      <td>39.727905</td>\n",
              "      <td>30.732008</td>\n",
              "    </tr>\n",
              "    <tr>\n",
              "      <th>2015-01-06</th>\n",
              "      <td>500.585632</td>\n",
              "      <td>24.742294</td>\n",
              "      <td>295.290009</td>\n",
              "      <td>40.659245</td>\n",
              "      <td>24.241146</td>\n",
              "      <td>76.150002</td>\n",
              "      <td>46.501427</td>\n",
              "      <td>22.499020</td>\n",
              "      <td>39.317783</td>\n",
              "      <td>30.159252</td>\n",
              "    </tr>\n",
              "    <tr>\n",
              "      <th>2015-01-07</th>\n",
              "      <td>499.727997</td>\n",
              "      <td>24.719900</td>\n",
              "      <td>298.420013</td>\n",
              "      <td>41.175831</td>\n",
              "      <td>24.581060</td>\n",
              "      <td>76.150002</td>\n",
              "      <td>46.742859</td>\n",
              "      <td>22.706963</td>\n",
              "      <td>39.326889</td>\n",
              "      <td>30.791851</td>\n",
              "    </tr>\n",
              "    <tr>\n",
              "      <th>2015-01-08</th>\n",
              "      <td>501.303680</td>\n",
              "      <td>25.257479</td>\n",
              "      <td>300.459991</td>\n",
              "      <td>42.387146</td>\n",
              "      <td>25.525522</td>\n",
              "      <td>78.180000</td>\n",
              "      <td>47.779999</td>\n",
              "      <td>22.881630</td>\n",
              "      <td>39.563850</td>\n",
              "      <td>31.364601</td>\n",
              "    </tr>\n",
              "    <tr>\n",
              "      <th>...</th>\n",
              "      <td>...</td>\n",
              "      <td>...</td>\n",
              "      <td>...</td>\n",
              "      <td>...</td>\n",
              "      <td>...</td>\n",
              "      <td>...</td>\n",
              "      <td>...</td>\n",
              "      <td>...</td>\n",
              "      <td>...</td>\n",
              "      <td>...</td>\n",
              "    </tr>\n",
              "    <tr>\n",
              "      <th>2020-10-26</th>\n",
              "      <td>1590.449951</td>\n",
              "      <td>43.770000</td>\n",
              "      <td>3207.040039</td>\n",
              "      <td>210.080002</td>\n",
              "      <td>115.050003</td>\n",
              "      <td>277.109985</td>\n",
              "      <td>488.239990</td>\n",
              "      <td>37.669998</td>\n",
              "      <td>57.490002</td>\n",
              "      <td>46.720001</td>\n",
              "    </tr>\n",
              "    <tr>\n",
              "      <th>2020-10-27</th>\n",
              "      <td>1604.260010</td>\n",
              "      <td>43.439999</td>\n",
              "      <td>3286.330078</td>\n",
              "      <td>213.250000</td>\n",
              "      <td>116.599998</td>\n",
              "      <td>283.290009</td>\n",
              "      <td>488.929993</td>\n",
              "      <td>36.869999</td>\n",
              "      <td>57.080002</td>\n",
              "      <td>45.639999</td>\n",
              "    </tr>\n",
              "    <tr>\n",
              "      <th>2020-10-28</th>\n",
              "      <td>1516.619995</td>\n",
              "      <td>41.980000</td>\n",
              "      <td>3162.780029</td>\n",
              "      <td>202.679993</td>\n",
              "      <td>111.199997</td>\n",
              "      <td>267.670013</td>\n",
              "      <td>486.239990</td>\n",
              "      <td>35.709999</td>\n",
              "      <td>55.590000</td>\n",
              "      <td>44.250000</td>\n",
              "    </tr>\n",
              "    <tr>\n",
              "      <th>2020-10-29</th>\n",
              "      <td>1567.239990</td>\n",
              "      <td>43.060001</td>\n",
              "      <td>3211.010010</td>\n",
              "      <td>204.720001</td>\n",
              "      <td>115.320000</td>\n",
              "      <td>280.829987</td>\n",
              "      <td>504.209991</td>\n",
              "      <td>35.689999</td>\n",
              "      <td>56.020000</td>\n",
              "      <td>44.110001</td>\n",
              "    </tr>\n",
              "    <tr>\n",
              "      <th>2020-10-30</th>\n",
              "      <td>1621.010010</td>\n",
              "      <td>42.240002</td>\n",
              "      <td>3036.149902</td>\n",
              "      <td>202.470001</td>\n",
              "      <td>108.860001</td>\n",
              "      <td>263.109985</td>\n",
              "      <td>475.739990</td>\n",
              "      <td>35.900002</td>\n",
              "      <td>56.110001</td>\n",
              "      <td>44.279999</td>\n",
              "    </tr>\n",
              "  </tbody>\n",
              "</table>\n",
              "<p>1469 rows × 10 columns</p>\n",
              "</div>"
            ],
            "text/plain": [
              "                   GOOG      CMCSA  ...       ORCL       INTC\n",
              "Date                                ...                      \n",
              "2015-01-02   523.373108  25.591234  ...  40.292976  31.082489\n",
              "2015-01-05   512.463013  25.069328  ...  39.727905  30.732008\n",
              "2015-01-06   500.585632  24.742294  ...  39.317783  30.159252\n",
              "2015-01-07   499.727997  24.719900  ...  39.326889  30.791851\n",
              "2015-01-08   501.303680  25.257479  ...  39.563850  31.364601\n",
              "...                 ...        ...  ...        ...        ...\n",
              "2020-10-26  1590.449951  43.770000  ...  57.490002  46.720001\n",
              "2020-10-27  1604.260010  43.439999  ...  57.080002  45.639999\n",
              "2020-10-28  1516.619995  41.980000  ...  55.590000  44.250000\n",
              "2020-10-29  1567.239990  43.060001  ...  56.020000  44.110001\n",
              "2020-10-30  1621.010010  42.240002  ...  56.110001  44.279999\n",
              "\n",
              "[1469 rows x 10 columns]"
            ]
          },
          "metadata": {
            "tags": []
          },
          "execution_count": 20
        }
      ]
    },
    {
      "cell_type": "code",
      "metadata": {
        "id": "TrQa-TC9hvjF",
        "outputId": "5cd05766-ac59-446e-e67a-e7886d454146",
        "colab": {
          "base_uri": "https://localhost:8080/",
          "height": 675
        }
      },
      "source": [
        "# Create the title 'Portfolio Adj Close Price History\n",
        "title = 'Portfolio Close Price History    '\n",
        "#Get the stocks\n",
        "my_stocks = df\n",
        "#Create and plot the graph\n",
        "plt.figure(figsize=(15,10)) #width = 15, height = 10\n",
        "# Loop through each stock and plot the Adj Close for each day\n",
        "for c in my_stocks.columns.values:\n",
        "  plt.plot( my_stocks[c],  label=c)#plt.plot( X-Axis , Y-Axis, line_width, alpha_for_blending,  label)\n",
        "plt.title(title)\n",
        "plt.xlabel('Date',fontsize=18)\n",
        "plt.ylabel('Price in USD ($)',fontsize=18)\n",
        "plt.legend(my_stocks.columns.values, loc='upper left')\n",
        "plt.show()"
      ],
      "execution_count": 25,
      "outputs": [
        {
          "output_type": "display_data",
          "data": {
            "image/png": "[encoded data removed]",
            "text/plain": [
              "<Figure size 1080x720 with 1 Axes>"
            ]
          },
          "metadata": {
            "tags": []
          }
        }
      ]
    },
    {
      "cell_type": "code",
      "metadata": {
        "id": "Nhw7vqsHiOnA",
        "outputId": "5b8b04db-0215-4de0-ca76-ba1d88494388",
        "colab": {
          "base_uri": "https://localhost:8080/",
          "height": 431
        }
      },
      "source": [
        "#Daily simple returns using Formula = new_price/old_price - 1\n",
        "returns = df.pct_change()\n",
        "returns"
      ],
      "execution_count": 27,
      "outputs": [
        {
          "output_type": "execute_result",
          "data": {
            "text/html": [
              "<div>\n",
              "<style scoped>\n",
              "    .dataframe tbody tr th:only-of-type {\n",
              "        vertical-align: middle;\n",
              "    }\n",
              "\n",
              "    .dataframe tbody tr th {\n",
              "        vertical-align: top;\n",
              "    }\n",
              "\n",
              "    .dataframe thead th {\n",
              "        text-align: right;\n",
              "    }\n",
              "</style>\n",
              "<table border=\"1\" class=\"dataframe\">\n",
              "  <thead>\n",
              "    <tr style=\"text-align: right;\">\n",
              "      <th></th>\n",
              "      <th>GOOG</th>\n",
              "      <th>CMCSA</th>\n",
              "      <th>AMZN</th>\n",
              "      <th>MSFT</th>\n",
              "      <th>AAPL</th>\n",
              "      <th>FB</th>\n",
              "      <th>NFLX</th>\n",
              "      <th>CSCO</th>\n",
              "      <th>ORCL</th>\n",
              "      <th>INTC</th>\n",
              "    </tr>\n",
              "    <tr>\n",
              "      <th>Date</th>\n",
              "      <th></th>\n",
              "      <th></th>\n",
              "      <th></th>\n",
              "      <th></th>\n",
              "      <th></th>\n",
              "      <th></th>\n",
              "      <th></th>\n",
              "      <th></th>\n",
              "      <th></th>\n",
              "      <th></th>\n",
              "    </tr>\n",
              "  </thead>\n",
              "  <tbody>\n",
              "    <tr>\n",
              "      <th>2015-01-02</th>\n",
              "      <td>NaN</td>\n",
              "      <td>NaN</td>\n",
              "      <td>NaN</td>\n",
              "      <td>NaN</td>\n",
              "      <td>NaN</td>\n",
              "      <td>NaN</td>\n",
              "      <td>NaN</td>\n",
              "      <td>NaN</td>\n",
              "      <td>NaN</td>\n",
              "      <td>NaN</td>\n",
              "    </tr>\n",
              "    <tr>\n",
              "      <th>2015-01-05</th>\n",
              "      <td>-0.020846</td>\n",
              "      <td>-0.020394</td>\n",
              "      <td>-0.020517</td>\n",
              "      <td>-0.009196</td>\n",
              "      <td>-0.028172</td>\n",
              "      <td>-0.016061</td>\n",
              "      <td>-0.050897</td>\n",
              "      <td>-0.019920</td>\n",
              "      <td>-0.014024</td>\n",
              "      <td>-0.011276</td>\n",
              "    </tr>\n",
              "    <tr>\n",
              "      <th>2015-01-06</th>\n",
              "      <td>-0.023177</td>\n",
              "      <td>-0.013045</td>\n",
              "      <td>-0.022833</td>\n",
              "      <td>-0.014677</td>\n",
              "      <td>0.000094</td>\n",
              "      <td>-0.013473</td>\n",
              "      <td>-0.017121</td>\n",
              "      <td>-0.000370</td>\n",
              "      <td>-0.010323</td>\n",
              "      <td>-0.018637</td>\n",
              "    </tr>\n",
              "    <tr>\n",
              "      <th>2015-01-07</th>\n",
              "      <td>-0.001713</td>\n",
              "      <td>-0.000905</td>\n",
              "      <td>0.010600</td>\n",
              "      <td>0.012705</td>\n",
              "      <td>0.014022</td>\n",
              "      <td>0.000000</td>\n",
              "      <td>0.005192</td>\n",
              "      <td>0.009242</td>\n",
              "      <td>0.000232</td>\n",
              "      <td>0.020975</td>\n",
              "    </tr>\n",
              "    <tr>\n",
              "      <th>2015-01-08</th>\n",
              "      <td>0.003153</td>\n",
              "      <td>0.021747</td>\n",
              "      <td>0.006836</td>\n",
              "      <td>0.029418</td>\n",
              "      <td>0.038422</td>\n",
              "      <td>0.026658</td>\n",
              "      <td>0.022188</td>\n",
              "      <td>0.007692</td>\n",
              "      <td>0.006025</td>\n",
              "      <td>0.018601</td>\n",
              "    </tr>\n",
              "    <tr>\n",
              "      <th>...</th>\n",
              "      <td>...</td>\n",
              "      <td>...</td>\n",
              "      <td>...</td>\n",
              "      <td>...</td>\n",
              "      <td>...</td>\n",
              "      <td>...</td>\n",
              "      <td>...</td>\n",
              "      <td>...</td>\n",
              "      <td>...</td>\n",
              "      <td>...</td>\n",
              "    </tr>\n",
              "    <tr>\n",
              "      <th>2020-10-26</th>\n",
              "      <td>-0.030804</td>\n",
              "      <td>-0.028629</td>\n",
              "      <td>0.000824</td>\n",
              "      <td>-0.028442</td>\n",
              "      <td>0.000087</td>\n",
              "      <td>-0.026967</td>\n",
              "      <td>-0.000082</td>\n",
              "      <td>-0.029624</td>\n",
              "      <td>-0.040234</td>\n",
              "      <td>-0.030705</td>\n",
              "    </tr>\n",
              "    <tr>\n",
              "      <th>2020-10-27</th>\n",
              "      <td>0.008683</td>\n",
              "      <td>-0.007539</td>\n",
              "      <td>0.024724</td>\n",
              "      <td>0.015089</td>\n",
              "      <td>0.013472</td>\n",
              "      <td>0.022302</td>\n",
              "      <td>0.001413</td>\n",
              "      <td>-0.021237</td>\n",
              "      <td>-0.007132</td>\n",
              "      <td>-0.023116</td>\n",
              "    </tr>\n",
              "    <tr>\n",
              "      <th>2020-10-28</th>\n",
              "      <td>-0.054630</td>\n",
              "      <td>-0.033610</td>\n",
              "      <td>-0.037595</td>\n",
              "      <td>-0.049566</td>\n",
              "      <td>-0.046312</td>\n",
              "      <td>-0.055138</td>\n",
              "      <td>-0.005502</td>\n",
              "      <td>-0.031462</td>\n",
              "      <td>-0.026104</td>\n",
              "      <td>-0.030456</td>\n",
              "    </tr>\n",
              "    <tr>\n",
              "      <th>2020-10-29</th>\n",
              "      <td>0.033377</td>\n",
              "      <td>0.025727</td>\n",
              "      <td>0.015249</td>\n",
              "      <td>0.010065</td>\n",
              "      <td>0.037050</td>\n",
              "      <td>0.049165</td>\n",
              "      <td>0.036957</td>\n",
              "      <td>-0.000560</td>\n",
              "      <td>0.007735</td>\n",
              "      <td>-0.003164</td>\n",
              "    </tr>\n",
              "    <tr>\n",
              "      <th>2020-10-30</th>\n",
              "      <td>0.034309</td>\n",
              "      <td>-0.019043</td>\n",
              "      <td>-0.054456</td>\n",
              "      <td>-0.010991</td>\n",
              "      <td>-0.056018</td>\n",
              "      <td>-0.063099</td>\n",
              "      <td>-0.056465</td>\n",
              "      <td>0.005884</td>\n",
              "      <td>0.001607</td>\n",
              "      <td>0.003854</td>\n",
              "    </tr>\n",
              "  </tbody>\n",
              "</table>\n",
              "<p>1469 rows × 10 columns</p>\n",
              "</div>"
            ],
            "text/plain": [
              "                GOOG     CMCSA      AMZN  ...      CSCO      ORCL      INTC\n",
              "Date                                      ...                              \n",
              "2015-01-02       NaN       NaN       NaN  ...       NaN       NaN       NaN\n",
              "2015-01-05 -0.020846 -0.020394 -0.020517  ... -0.019920 -0.014024 -0.011276\n",
              "2015-01-06 -0.023177 -0.013045 -0.022833  ... -0.000370 -0.010323 -0.018637\n",
              "2015-01-07 -0.001713 -0.000905  0.010600  ...  0.009242  0.000232  0.020975\n",
              "2015-01-08  0.003153  0.021747  0.006836  ...  0.007692  0.006025  0.018601\n",
              "...              ...       ...       ...  ...       ...       ...       ...\n",
              "2020-10-26 -0.030804 -0.028629  0.000824  ... -0.029624 -0.040234 -0.030705\n",
              "2020-10-27  0.008683 -0.007539  0.024724  ... -0.021237 -0.007132 -0.023116\n",
              "2020-10-28 -0.054630 -0.033610 -0.037595  ... -0.031462 -0.026104 -0.030456\n",
              "2020-10-29  0.033377  0.025727  0.015249  ... -0.000560  0.007735 -0.003164\n",
              "2020-10-30  0.034309 -0.019043 -0.054456  ...  0.005884  0.001607  0.003854\n",
              "\n",
              "[1469 rows x 10 columns]"
            ]
          },
          "metadata": {
            "tags": []
          },
          "execution_count": 27
        }
      ]
    },
    {
      "cell_type": "code",
      "metadata": {
        "id": "cofpOu2sjAd5",
        "outputId": "62057b77-ad11-44a2-9e86-33ec824dfd8f",
        "colab": {
          "base_uri": "https://localhost:8080/",
          "height": 343
        }
      },
      "source": [
        "# Create and show the annualized co-variance matrix.\n",
        "cov_matrix_annual = returns.cov() * 253\n",
        "cov_matrix_annual"
      ],
      "execution_count": 28,
      "outputs": [
        {
          "output_type": "execute_result",
          "data": {
            "text/html": [
              "<div>\n",
              "<style scoped>\n",
              "    .dataframe tbody tr th:only-of-type {\n",
              "        vertical-align: middle;\n",
              "    }\n",
              "\n",
              "    .dataframe tbody tr th {\n",
              "        vertical-align: top;\n",
              "    }\n",
              "\n",
              "    .dataframe thead th {\n",
              "        text-align: right;\n",
              "    }\n",
              "</style>\n",
              "<table border=\"1\" class=\"dataframe\">\n",
              "  <thead>\n",
              "    <tr style=\"text-align: right;\">\n",
              "      <th></th>\n",
              "      <th>GOOG</th>\n",
              "      <th>CMCSA</th>\n",
              "      <th>AMZN</th>\n",
              "      <th>MSFT</th>\n",
              "      <th>AAPL</th>\n",
              "      <th>FB</th>\n",
              "      <th>NFLX</th>\n",
              "      <th>CSCO</th>\n",
              "      <th>ORCL</th>\n",
              "      <th>INTC</th>\n",
              "    </tr>\n",
              "  </thead>\n",
              "  <tbody>\n",
              "    <tr>\n",
              "      <th>GOOG</th>\n",
              "      <td>0.073496</td>\n",
              "      <td>0.030770</td>\n",
              "      <td>0.054889</td>\n",
              "      <td>0.055441</td>\n",
              "      <td>0.049010</td>\n",
              "      <td>0.057702</td>\n",
              "      <td>0.055946</td>\n",
              "      <td>0.040061</td>\n",
              "      <td>0.035971</td>\n",
              "      <td>0.045443</td>\n",
              "    </tr>\n",
              "    <tr>\n",
              "      <th>CMCSA</th>\n",
              "      <td>0.030770</td>\n",
              "      <td>0.061643</td>\n",
              "      <td>0.026858</td>\n",
              "      <td>0.036041</td>\n",
              "      <td>0.034256</td>\n",
              "      <td>0.029765</td>\n",
              "      <td>0.029814</td>\n",
              "      <td>0.034286</td>\n",
              "      <td>0.030499</td>\n",
              "      <td>0.038051</td>\n",
              "    </tr>\n",
              "    <tr>\n",
              "      <th>AMZN</th>\n",
              "      <td>0.054889</td>\n",
              "      <td>0.026858</td>\n",
              "      <td>0.096740</td>\n",
              "      <td>0.056588</td>\n",
              "      <td>0.051020</td>\n",
              "      <td>0.059027</td>\n",
              "      <td>0.069860</td>\n",
              "      <td>0.038973</td>\n",
              "      <td>0.032428</td>\n",
              "      <td>0.041645</td>\n",
              "    </tr>\n",
              "    <tr>\n",
              "      <th>MSFT</th>\n",
              "      <td>0.055441</td>\n",
              "      <td>0.036041</td>\n",
              "      <td>0.056588</td>\n",
              "      <td>0.078367</td>\n",
              "      <td>0.057073</td>\n",
              "      <td>0.054068</td>\n",
              "      <td>0.056495</td>\n",
              "      <td>0.049271</td>\n",
              "      <td>0.045130</td>\n",
              "      <td>0.057961</td>\n",
              "    </tr>\n",
              "    <tr>\n",
              "      <th>AAPL</th>\n",
              "      <td>0.049010</td>\n",
              "      <td>0.034256</td>\n",
              "      <td>0.051020</td>\n",
              "      <td>0.057073</td>\n",
              "      <td>0.088385</td>\n",
              "      <td>0.054508</td>\n",
              "      <td>0.052396</td>\n",
              "      <td>0.046441</td>\n",
              "      <td>0.040426</td>\n",
              "      <td>0.053262</td>\n",
              "    </tr>\n",
              "    <tr>\n",
              "      <th>FB</th>\n",
              "      <td>0.057702</td>\n",
              "      <td>0.029765</td>\n",
              "      <td>0.059027</td>\n",
              "      <td>0.054068</td>\n",
              "      <td>0.054508</td>\n",
              "      <td>0.101720</td>\n",
              "      <td>0.060239</td>\n",
              "      <td>0.037850</td>\n",
              "      <td>0.037010</td>\n",
              "      <td>0.045972</td>\n",
              "    </tr>\n",
              "    <tr>\n",
              "      <th>NFLX</th>\n",
              "      <td>0.055946</td>\n",
              "      <td>0.029814</td>\n",
              "      <td>0.069860</td>\n",
              "      <td>0.056495</td>\n",
              "      <td>0.052396</td>\n",
              "      <td>0.060239</td>\n",
              "      <td>0.182830</td>\n",
              "      <td>0.042016</td>\n",
              "      <td>0.037455</td>\n",
              "      <td>0.051185</td>\n",
              "    </tr>\n",
              "    <tr>\n",
              "      <th>CSCO</th>\n",
              "      <td>0.040061</td>\n",
              "      <td>0.034286</td>\n",
              "      <td>0.038973</td>\n",
              "      <td>0.049271</td>\n",
              "      <td>0.046441</td>\n",
              "      <td>0.037850</td>\n",
              "      <td>0.042016</td>\n",
              "      <td>0.072294</td>\n",
              "      <td>0.042247</td>\n",
              "      <td>0.052389</td>\n",
              "    </tr>\n",
              "    <tr>\n",
              "      <th>ORCL</th>\n",
              "      <td>0.035971</td>\n",
              "      <td>0.030499</td>\n",
              "      <td>0.032428</td>\n",
              "      <td>0.045130</td>\n",
              "      <td>0.040426</td>\n",
              "      <td>0.037010</td>\n",
              "      <td>0.037455</td>\n",
              "      <td>0.042247</td>\n",
              "      <td>0.065250</td>\n",
              "      <td>0.044971</td>\n",
              "    </tr>\n",
              "    <tr>\n",
              "      <th>INTC</th>\n",
              "      <td>0.045443</td>\n",
              "      <td>0.038051</td>\n",
              "      <td>0.041645</td>\n",
              "      <td>0.057961</td>\n",
              "      <td>0.053262</td>\n",
              "      <td>0.045972</td>\n",
              "      <td>0.051185</td>\n",
              "      <td>0.052389</td>\n",
              "      <td>0.044971</td>\n",
              "      <td>0.102883</td>\n",
              "    </tr>\n",
              "  </tbody>\n",
              "</table>\n",
              "</div>"
            ],
            "text/plain": [
              "           GOOG     CMCSA      AMZN  ...      CSCO      ORCL      INTC\n",
              "GOOG   0.073496  0.030770  0.054889  ...  0.040061  0.035971  0.045443\n",
              "CMCSA  0.030770  0.061643  0.026858  ...  0.034286  0.030499  0.038051\n",
              "AMZN   0.054889  0.026858  0.096740  ...  0.038973  0.032428  0.041645\n",
              "MSFT   0.055441  0.036041  0.056588  ...  0.049271  0.045130  0.057961\n",
              "AAPL   0.049010  0.034256  0.051020  ...  0.046441  0.040426  0.053262\n",
              "FB     0.057702  0.029765  0.059027  ...  0.037850  0.037010  0.045972\n",
              "NFLX   0.055946  0.029814  0.069860  ...  0.042016  0.037455  0.051185\n",
              "CSCO   0.040061  0.034286  0.038973  ...  0.072294  0.042247  0.052389\n",
              "ORCL   0.035971  0.030499  0.032428  ...  0.042247  0.065250  0.044971\n",
              "INTC   0.045443  0.038051  0.041645  ...  0.052389  0.044971  0.102883\n",
              "\n",
              "[10 rows x 10 columns]"
            ]
          },
          "metadata": {
            "tags": []
          },
          "execution_count": 28
        }
      ]
    },
    {
      "cell_type": "code",
      "metadata": {
        "id": "9hCitLQiju9Z",
        "outputId": "7061169b-1773-49b0-86de-c9c28593a9cc",
        "colab": {
          "base_uri": "https://localhost:8080/"
        }
      },
      "source": [
        "# Portfolio variance using the formula :\n",
        "# Expected portfolio variance= WT * (Covariance Matrix) * W\n",
        "port_variance = np.dot(weights.T, np.dot(cov_matrix_annual, weights))\n",
        "port_variance"
      ],
      "execution_count": 29,
      "outputs": [
        {
          "output_type": "execute_result",
          "data": {
            "text/plain": [
              "0.050290250015459274"
            ]
          },
          "metadata": {
            "tags": []
          },
          "execution_count": 29
        }
      ]
    },
    {
      "cell_type": "code",
      "metadata": {
        "id": "hPkCdhHNkDte",
        "outputId": "5256f855-4226-4840-f894-ee681113739c",
        "colab": {
          "base_uri": "https://localhost:8080/"
        }
      },
      "source": [
        "# Show the portfolio volatility using the formula :\n",
        "# Expected portfolio volatility= SQRT (WT * (Covariance Matrix) * W)\n",
        "port_volatility = np.sqrt(port_variance)\n",
        "port_volatility"
      ],
      "execution_count": 30,
      "outputs": [
        {
          "output_type": "execute_result",
          "data": {
            "text/plain": [
              "0.2242548773504364"
            ]
          },
          "metadata": {
            "tags": []
          },
          "execution_count": 30
        }
      ]
    },
    {
      "cell_type": "code",
      "metadata": {
        "id": "QydLh7BokSD3",
        "outputId": "a19f73fa-1cfc-48f6-c469-6abaaf3152d5",
        "colab": {
          "base_uri": "https://localhost:8080/"
        }
      },
      "source": [
        "#  Portfolio annual simple return\n",
        "portfolioSimpleAnnualReturn = np.sum(returns.mean()*weights) * 252\n",
        "portfolioSimpleAnnualReturn"
      ],
      "execution_count": 32,
      "outputs": [
        {
          "output_type": "execute_result",
          "data": {
            "text/plain": [
              "0.24459451038919638"
            ]
          },
          "metadata": {
            "tags": []
          },
          "execution_count": 32
        }
      ]
    },
    {
      "cell_type": "code",
      "metadata": {
        "id": "g0t348xRkcMl",
        "outputId": "6012e12e-e26d-47ef-c302-5d41ab9dc976",
        "colab": {
          "base_uri": "https://localhost:8080/"
        }
      },
      "source": [
        "# Expected annual return, volatility (risk), and variance\n",
        "percent_var = str(round(port_variance, 2) * 100) + '%'\n",
        "percent_vols = str(round(port_volatility, 2) * 100) + '%'\n",
        "percent_ret = str(round(portfolioSimpleAnnualReturn, 2)*100)+'%'\n",
        "print(\"Expected annual return : \"+ percent_ret)\n",
        "print('Annual volatility/ risk/ standard deviation : '+percent_vols)\n",
        "print('Annual variance : '+percent_var)"
      ],
      "execution_count": 33,
      "outputs": [
        {
          "output_type": "stream",
          "text": [
            "Expected annual return : 24.0%\n",
            "Annual volatility/ risk/ standard deviation : 22.0%\n",
            "Annual variance : 5.0%\n"
          ],
          "name": "stdout"
        }
      ]
    },
    {
      "cell_type": "code",
      "metadata": {
        "id": "H732Skg_k1O0"
      },
      "source": [
        "# Here Annual return on the above portfolio is 24 % while risk associated with it is 22% which is not that good.\n",
        "# So, we need to optimize this portfolio"
      ],
      "execution_count": 34,
      "outputs": []
    },
    {
      "cell_type": "code",
      "metadata": {
        "id": "zDkrMmtllUVK"
      },
      "source": [
        "# OPTIMIZATION OF PORTFOLIO"
      ],
      "execution_count": 35,
      "outputs": []
    },
    {
      "cell_type": "code",
      "metadata": {
        "id": "-FhX-oh8leQ2",
        "outputId": "ce6b1554-05ce-443d-a964-0bf588ae38f7",
        "colab": {
          "base_uri": "https://localhost:8080/"
        }
      },
      "source": [
        "pip install PyPortfolioOpt"
      ],
      "execution_count": 36,
      "outputs": [
        {
          "output_type": "stream",
          "text": [
            "Collecting PyPortfolioOpt\n",
            "\u001b[?25l  Downloading https://files.pythonhosted.org/packages/dc/68/97f33cb76fc8a857a4d59cbb8e636c0a9c09afa09ccbfdcf70d2f15fc811/PyPortfolioOpt-1.2.6-py3-none-any.whl (48kB)\n",
            "\r\u001b[K     |██████▊                         | 10kB 18.4MB/s eta 0:00:01\r\u001b[K     |█████████████▍                  | 20kB 4.8MB/s eta 0:00:01\r\u001b[K     |████████████████████▏           | 30kB 6.3MB/s eta 0:00:01\r\u001b[K     |██████████████████████████▉     | 40kB 7.0MB/s eta 0:00:01\r\u001b[K     |████████████████████████████████| 51kB 3.1MB/s \n",
            "\u001b[?25hRequirement already satisfied: pandas>=0.19 in /usr/local/lib/python3.6/dist-packages (from PyPortfolioOpt) (1.1.3)\n",
            "Requirement already satisfied: cvxopt<2.0,>=1.2 in /usr/local/lib/python3.6/dist-packages (from PyPortfolioOpt) (1.2.5)\n",
            "Requirement already satisfied: scipy<2.0,>=1.3 in /usr/local/lib/python3.6/dist-packages (from PyPortfolioOpt) (1.4.1)\n",
            "Requirement already satisfied: numpy<2.0,>=1.12 in /usr/local/lib/python3.6/dist-packages (from PyPortfolioOpt) (1.18.5)\n",
            "Requirement already satisfied: cvxpy<2.0,>=1.0 in /usr/local/lib/python3.6/dist-packages (from PyPortfolioOpt) (1.0.31)\n",
            "Requirement already satisfied: python-dateutil>=2.7.3 in /usr/local/lib/python3.6/dist-packages (from pandas>=0.19->PyPortfolioOpt) (2.8.1)\n",
            "Requirement already satisfied: pytz>=2017.2 in /usr/local/lib/python3.6/dist-packages (from pandas>=0.19->PyPortfolioOpt) (2018.9)\n",
            "Requirement already satisfied: osqp>=0.4.1 in /usr/local/lib/python3.6/dist-packages (from cvxpy<2.0,>=1.0->PyPortfolioOpt) (0.6.1)\n",
            "Requirement already satisfied: multiprocess in /usr/local/lib/python3.6/dist-packages (from cvxpy<2.0,>=1.0->PyPortfolioOpt) (0.70.10)\n",
            "Requirement already satisfied: ecos>=2 in /usr/local/lib/python3.6/dist-packages (from cvxpy<2.0,>=1.0->PyPortfolioOpt) (2.0.7.post1)\n",
            "Requirement already satisfied: scs>=1.1.3 in /usr/local/lib/python3.6/dist-packages (from cvxpy<2.0,>=1.0->PyPortfolioOpt) (2.1.2)\n",
            "Requirement already satisfied: six>=1.5 in /usr/local/lib/python3.6/dist-packages (from python-dateutil>=2.7.3->pandas>=0.19->PyPortfolioOpt) (1.15.0)\n",
            "Requirement already satisfied: future in /usr/local/lib/python3.6/dist-packages (from osqp>=0.4.1->cvxpy<2.0,>=1.0->PyPortfolioOpt) (0.16.0)\n",
            "Requirement already satisfied: dill>=0.3.2 in /usr/local/lib/python3.6/dist-packages (from multiprocess->cvxpy<2.0,>=1.0->PyPortfolioOpt) (0.3.2)\n",
            "Installing collected packages: PyPortfolioOpt\n",
            "Successfully installed PyPortfolioOpt-1.2.6\n"
          ],
          "name": "stdout"
        }
      ]
    },
    {
      "cell_type": "code",
      "metadata": {
        "id": "M3LcSy8kllfK"
      },
      "source": [
        "# Installing the necessary libraries\n",
        "from pypfopt.efficient_frontier import EfficientFrontier\n",
        "from pypfopt import risk_models\n",
        "from pypfopt import expected_returns"
      ],
      "execution_count": 37,
      "outputs": []
    },
    {
      "cell_type": "code",
      "metadata": {
        "id": "-I741LjUlqcy"
      },
      "source": [
        "mu = expected_returns.mean_historical_return(df)#returns.mean() * 252\n",
        "S = risk_models.sample_cov(df) #Get the sample covariance matrix"
      ],
      "execution_count": 38,
      "outputs": []
    },
    {
      "cell_type": "code",
      "metadata": {
        "id": "0oR-Y2apl_SC",
        "outputId": "e5e21ace-5d0c-4e87-8926-353d2d377a2b",
        "colab": {
          "base_uri": "https://localhost:8080/"
        }
      },
      "source": [
        "# Optimize for maximal Sharpe ration \n",
        "ef = EfficientFrontier(mu, S)\n",
        "weights = ef.max_sharpe() #Maximize the Sharpe ratio, and get the raw weights\n",
        "cleaned_weights = ef.clean_weights() \n",
        "print(cleaned_weights) #Note the weights may have some rounding error, meaning they may not add up exactly to 1 but should be close\n",
        "ef.portfolio_performance(verbose=True)"
      ],
      "execution_count": 39,
      "outputs": [
        {
          "output_type": "stream",
          "text": [
            "OrderedDict([('GOOG', 0.0), ('CMCSA', 0.0), ('AMZN', 0.78043), ('MSFT', 0.02174), ('AAPL', 0.02589), ('FB', 0.0), ('NFLX', 0.17194), ('CSCO', 0.0), ('ORCL', 0.0), ('INTC', 0.0)])\n",
            "Expected annual return: 47.1%\n",
            "Annual volatility: 29.6%\n",
            "Sharpe Ratio: 1.52\n"
          ],
          "name": "stdout"
        },
        {
          "output_type": "execute_result",
          "data": {
            "text/plain": [
              "(0.4706993661490876, 0.29623982833975415, 1.5214003082400707)"
            ]
          },
          "metadata": {
            "tags": []
          },
          "execution_count": 39
        }
      ]
    },
    {
      "cell_type": "code",
      "metadata": {
        "id": "KrGACzgMmJ1E"
      },
      "source": [
        "# From the above result we can conclude that we can optimize the above portfolio by having about:\n",
        "# 78.043% of portfolio in Amazon (AMZN)\n",
        "# 2.174% of portfolio in Microsoft (MSFT)\n",
        "# 17.194% of portfolio in Netflix (NFLX)\n",
        "# 0.0% in Google(GOOG), Comcast(CMCSA), Facebook(FB), Cisco(CSCO), Oracle(ORCL), Intel(INTL)\n",
        "\n",
        "# We can also see that the expected annual return in increased from 24% to 47.1% and the annual volatility is 29.6%\n"
      ],
      "execution_count": 42,
      "outputs": []
    },
    {
      "cell_type": "code",
      "metadata": {
        "id": "ZOwiFopRoiZ0"
      },
      "source": [
        "# To get the number of stocks to buy from this portfolio for total amount of USD $ 20,000"
      ],
      "execution_count": 43,
      "outputs": []
    },
    {
      "cell_type": "code",
      "metadata": {
        "id": "tfQtS6Hcph4c",
        "outputId": "e6b96a07-1cda-46ad-fa2b-b7d99d244d3e",
        "colab": {
          "base_uri": "https://localhost:8080/"
        }
      },
      "source": [
        "pip install pulp"
      ],
      "execution_count": 44,
      "outputs": [
        {
          "output_type": "stream",
          "text": [
            "Collecting pulp\n",
            "\u001b[?25l  Downloading https://files.pythonhosted.org/packages/89/0c/6d80f5f81a92d1733cc5ca180491b8a3cd5839e335627a0046c81b7d3d3d/PuLP-2.3.1-py3-none-any.whl (40.6MB)\n",
            "\u001b[K     |████████████████████████████████| 40.6MB 109kB/s \n",
            "\u001b[?25hCollecting amply>=0.1.2\n",
            "  Downloading https://files.pythonhosted.org/packages/f3/c5/dfa09dd2595a2ab2ab4e6fa7bebef9565812722e1980d04b0edce5032066/amply-0.1.4-py3-none-any.whl\n",
            "Requirement already satisfied: pyparsing in /usr/local/lib/python3.6/dist-packages (from amply>=0.1.2->pulp) (2.4.7)\n",
            "Requirement already satisfied: docutils>=0.3 in /usr/local/lib/python3.6/dist-packages (from amply>=0.1.2->pulp) (0.16)\n",
            "Installing collected packages: amply, pulp\n",
            "Successfully installed amply-0.1.4 pulp-2.3.1\n"
          ],
          "name": "stdout"
        }
      ]
    },
    {
      "cell_type": "code",
      "metadata": {
        "id": "QCcHv84Zpk7-",
        "outputId": "6f7bea7e-d29a-4b2d-9081-e96bfd3c9b99",
        "colab": {
          "base_uri": "https://localhost:8080/"
        }
      },
      "source": [
        "from pypfopt.discrete_allocation import DiscreteAllocation, get_latest_prices\n",
        "latest_prices = get_latest_prices(df)\n",
        "weights = cleaned_weights \n",
        "da = DiscreteAllocation(weights, latest_prices, total_portfolio_value=20000)\n",
        "allocation, leftover = da.lp_portfolio()\n",
        "print(\"Discrete allocation(Stocks to buy):\", allocation)\n",
        "print(\"Funds remaining: ${:.2f}\".format(leftover))"
      ],
      "execution_count": 46,
      "outputs": [
        {
          "output_type": "stream",
          "text": [
            "Discrete allocation(Stocks to buy): {'AMZN': 5, 'MSFT': 2, 'AAPL': 5, 'NFLX': 8}\n",
            "Funds remaining: $64.09\n"
          ],
          "name": "stdout"
        }
      ]
    },
    {
      "cell_type": "code",
      "metadata": {
        "id": "O-OBkEXOpqxm"
      },
      "source": [
        "# So, to get the expected return one should buy:\n",
        "# 5 stocks of Amazon(AMZN)\n",
        "# 2 stocks of Microsoft(MSFT)\n",
        "# 5 stocks of Apple(AAPL)\n",
        "# 8 stocks of Netflix(NFLX)\n",
        "\n",
        "# And at the end USD $64.09 will be remaining"
      ],
      "execution_count": 48,
      "outputs": []
    },
    {
      "cell_type": "code",
      "metadata": {
        "id": "1X6wRhhYql37"
      },
      "source": [
        ""
      ],
      "execution_count": null,
      "outputs": []
    }
  ]
}